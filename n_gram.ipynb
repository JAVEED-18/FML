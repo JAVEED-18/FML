{
  "nbformat": 4,
  "nbformat_minor": 0,
  "metadata": {
    "colab": {
      "provenance": [],
      "mount_file_id": "1CowUUE66UpDzTH_K4ETK5t4VzTX-1Ole",
      "authorship_tag": "ABX9TyMtcIe+Km8uF4zVdPpKsxuk",
      "include_colab_link": true
    },
    "kernelspec": {
      "name": "python3",
      "display_name": "Python 3"
    },
    "language_info": {
      "name": "python"
    }
  },
  "cells": [
    {
      "cell_type": "markdown",
      "metadata": {
        "id": "view-in-github",
        "colab_type": "text"
      },
      "source": [
        "<a href=\"https://colab.research.google.com/github/JAVEED-18/FML/blob/main/n_gram.ipynb\" target=\"_parent\"><img src=\"https://colab.research.google.com/assets/colab-badge.svg\" alt=\"Open In Colab\"/></a>"
      ]
    },
    {
      "cell_type": "code",
      "execution_count": 10,
      "metadata": {
        "colab": {
          "base_uri": "https://localhost:8080/"
        },
        "id": "kImb32MBoUTt",
        "outputId": "7ed618e1-3af5-447e-cd51-86c3938ce990"
      },
      "outputs": [
        {
          "output_type": "stream",
          "name": "stderr",
          "text": [
            "[nltk_data] Downloading package punkt to /root/nltk_data...\n",
            "[nltk_data]   Package punkt is already up-to-date!\n",
            "[nltk_data] Downloading package reuters to /root/nltk_data...\n",
            "[nltk_data]   Package reuters is already up-to-date!\n"
          ]
        }
      ],
      "source": [
        "nltk.download('punkt')\n",
        "import nltk\n",
        "from nltk.corpus import reuters\n",
        "\n",
        "nltk.download('reuters')\n",
        "\n",
        "# Preprocess the corpus\n",
        "corpus = reuters.sents()\n",
        "sentences = []\n",
        "for sentence in corpus:\n",
        "    sentences.append(' '.join(sentence))\n",
        "\n",
        "# Tokenize the sentences\n",
        "tokenized_sentences = [nltk.word_tokenize(sentence) for sentence in sentences]\n",
        "from nltk.util import ngrams\n",
        "\n",
        "# Specify the value of N for N-grams\n",
        "N = 2\n",
        "\n",
        "# Create the N-grams\n",
        "ngram_model = []\n",
        "for sentence in tokenized_sentences:\n",
        "    ngrams_list = list(ngrams(sentence, N, pad_left=True, pad_right=True))\n",
        "    ngram_model.extend(ngrams_list)"
      ]
    },
    {
      "cell_type": "code",
      "source": [],
      "metadata": {
        "id": "6hu3lBKtFU9q"
      },
      "execution_count": null,
      "outputs": []
    }
  ]
}